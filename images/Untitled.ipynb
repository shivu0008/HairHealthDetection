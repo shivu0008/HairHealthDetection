{
 "cells": [
  {
   "cell_type": "code",
   "execution_count": null,
   "id": "e9b4ef04-3324-42b5-a05e-cd773d00f854",
   "metadata": {},
   "outputs": [],
   "source": []
  }
 ],
 "metadata": {
  "kernelspec": {
   "display_name": "",
   "name": ""
  },
  "language_info": {
   "name": ""
  }
 },
 "nbformat": 4,
 "nbformat_minor": 5
}
